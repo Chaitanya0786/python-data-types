{
 "cells": [
  {
   "cell_type": "code",
   "execution_count": 1,
   "id": "ce994ea2-4b4f-4c79-9458-0851e55e7ea8",
   "metadata": {},
   "outputs": [],
   "source": [
    "name=\"chaitanya\"\n",
    "age=19"
   ]
  },
  {
   "cell_type": "code",
   "execution_count": 3,
   "id": "23aeadfd-d5b3-40cf-97f0-9ea77218bc20",
   "metadata": {},
   "outputs": [
    {
     "data": {
      "text/plain": [
       "str"
      ]
     },
     "execution_count": 3,
     "metadata": {},
     "output_type": "execute_result"
    }
   ],
   "source": [
    "type(name)"
   ]
  },
  {
   "cell_type": "code",
   "execution_count": 15,
   "id": "86f44250-f3e6-433d-98b5-078579e2e7ad",
   "metadata": {},
   "outputs": [],
   "source": [
    "b=5"
   ]
  },
  {
   "cell_type": "code",
   "execution_count": 17,
   "id": "e9685a40-4b13-4cb6-8c25-9d88d90c53d0",
   "metadata": {},
   "outputs": [
    {
     "data": {
      "text/plain": [
       "int"
      ]
     },
     "execution_count": 17,
     "metadata": {},
     "output_type": "execute_result"
    }
   ],
   "source": [
    "type(b)"
   ]
  },
  {
   "cell_type": "code",
   "execution_count": 21,
   "id": "2ae03a04-66b6-43d0-a36b-f5183074d716",
   "metadata": {},
   "outputs": [
    {
     "data": {
      "text/plain": [
       "5"
      ]
     },
     "execution_count": 21,
     "metadata": {},
     "output_type": "execute_result"
    }
   ],
   "source": [
    "y=float(b)\n",
    "b"
   ]
  },
  {
   "cell_type": "code",
   "execution_count": 24,
   "id": "ec3a0d83-709e-4cea-88bb-a7aa8a7017f2",
   "metadata": {},
   "outputs": [
    {
     "data": {
      "text/plain": [
       "5.0"
      ]
     },
     "execution_count": 24,
     "metadata": {},
     "output_type": "execute_result"
    }
   ],
   "source": [
    "y"
   ]
  },
  {
   "cell_type": "code",
   "execution_count": 27,
   "id": "3422f27b-0829-4a53-8a4f-6404d2949166",
   "metadata": {},
   "outputs": [
    {
     "data": {
      "text/plain": [
       "float"
      ]
     },
     "execution_count": 27,
     "metadata": {},
     "output_type": "execute_result"
    }
   ],
   "source": [
    "a=8.9\n",
    "a\n",
    "type(a)"
   ]
  },
  {
   "cell_type": "code",
   "execution_count": 31,
   "id": "1195f966-1816-4661-aa9c-1d647f4b25c1",
   "metadata": {},
   "outputs": [
    {
     "data": {
      "text/plain": [
       "8"
      ]
     },
     "execution_count": 31,
     "metadata": {},
     "output_type": "execute_result"
    }
   ],
   "source": [
    "int(a)"
   ]
  },
  {
   "cell_type": "code",
   "execution_count": 34,
   "id": "77a80422-60dd-4b2f-b5ab-381437915300",
   "metadata": {},
   "outputs": [],
   "source": [
    "s=7"
   ]
  },
  {
   "cell_type": "code",
   "execution_count": 36,
   "id": "c5caabd1-0abd-45ae-bd21-5bb8e05fc21c",
   "metadata": {},
   "outputs": [
    {
     "data": {
      "text/plain": [
       "int"
      ]
     },
     "execution_count": 36,
     "metadata": {},
     "output_type": "execute_result"
    }
   ],
   "source": [
    "type(s)"
   ]
  },
  {
   "cell_type": "code",
   "execution_count": 38,
   "id": "144e5049-a266-465f-a02c-2e5b64dd34d7",
   "metadata": {},
   "outputs": [
    {
     "data": {
      "text/plain": [
       "7"
      ]
     },
     "execution_count": 38,
     "metadata": {},
     "output_type": "execute_result"
    }
   ],
   "source": [
    "int(s)"
   ]
  },
  {
   "cell_type": "code",
   "execution_count": 40,
   "id": "20def645-e734-42f1-bd07-7a790b368099",
   "metadata": {},
   "outputs": [
    {
     "data": {
      "text/plain": [
       "7.0"
      ]
     },
     "execution_count": 40,
     "metadata": {},
     "output_type": "execute_result"
    }
   ],
   "source": [
    "float(s)"
   ]
  },
  {
   "cell_type": "code",
   "execution_count": 42,
   "id": "80817ffb-2c1f-49ec-b5c2-9a765acd996f",
   "metadata": {},
   "outputs": [
    {
     "data": {
      "text/plain": [
       "7"
      ]
     },
     "execution_count": 42,
     "metadata": {},
     "output_type": "execute_result"
    }
   ],
   "source": [
    "s"
   ]
  },
  {
   "cell_type": "code",
   "execution_count": 44,
   "id": "3c772f54-4aef-42b5-9020-1d8a440252f4",
   "metadata": {},
   "outputs": [],
   "source": [
    "z=str(s)"
   ]
  },
  {
   "cell_type": "code",
   "execution_count": 46,
   "id": "85a227a7-e6cf-480a-adf7-10d3728421ec",
   "metadata": {},
   "outputs": [
    {
     "data": {
      "text/plain": [
       "'7'"
      ]
     },
     "execution_count": 46,
     "metadata": {},
     "output_type": "execute_result"
    }
   ],
   "source": [
    "z"
   ]
  },
  {
   "cell_type": "code",
   "execution_count": 48,
   "id": "fd0e87c3-4e89-484c-bf43-2b7830a9452a",
   "metadata": {},
   "outputs": [
    {
     "data": {
      "text/plain": [
       "str"
      ]
     },
     "execution_count": 48,
     "metadata": {},
     "output_type": "execute_result"
    }
   ],
   "source": [
    "type(z)"
   ]
  },
  {
   "cell_type": "code",
   "execution_count": 52,
   "id": "c4905875-20f4-4e22-8df5-6831a60abbb9",
   "metadata": {},
   "outputs": [
    {
     "data": {
      "text/plain": [
       "12"
      ]
     },
     "execution_count": 52,
     "metadata": {},
     "output_type": "execute_result"
    }
   ],
   "source": [
    "a=8\n",
    "b=4\n",
    "c=a+b\n",
    "c"
   ]
  },
  {
   "cell_type": "code",
   "execution_count": 54,
   "id": "3ec49e60-aae6-41b0-986c-2f1a92f1be09",
   "metadata": {},
   "outputs": [
    {
     "data": {
      "text/plain": [
       "4096"
      ]
     },
     "execution_count": 54,
     "metadata": {},
     "output_type": "execute_result"
    }
   ],
   "source": [
    "a**b"
   ]
  },
  {
   "cell_type": "code",
   "execution_count": 56,
   "id": "ce7ad4d5-d27f-4a34-abd8-f29d437d9989",
   "metadata": {},
   "outputs": [],
   "source": [
    "#logical operators\n",
    "#and\n",
    "#or\n",
    "#not"
   ]
  },
  {
   "cell_type": "code",
   "execution_count": 58,
   "id": "95188dda-1f72-4166-bd71-01901a000a78",
   "metadata": {},
   "outputs": [
    {
     "data": {
      "text/plain": [
       "False"
      ]
     },
     "execution_count": 58,
     "metadata": {},
     "output_type": "execute_result"
    }
   ],
   "source": [
    "a=88\n",
    "b=723\n",
    "c=9999\n",
    "a>b"
   ]
  },
  {
   "cell_type": "code",
   "execution_count": 62,
   "id": "143c8926-2878-4d94-a3d7-3b188ab16614",
   "metadata": {},
   "outputs": [
    {
     "data": {
      "text/plain": [
       "False"
      ]
     },
     "execution_count": 62,
     "metadata": {},
     "output_type": "execute_result"
    }
   ],
   "source": [
    "True and False"
   ]
  },
  {
   "cell_type": "code",
   "execution_count": 64,
   "id": "24638709-922b-4379-8eb4-c4449193ca94",
   "metadata": {},
   "outputs": [
    {
     "data": {
      "text/plain": [
       "False"
      ]
     },
     "execution_count": 64,
     "metadata": {},
     "output_type": "execute_result"
    }
   ],
   "source": [
    "True and False\n",
    "True and False\n",
    "False and True\n",
    "False and False"
   ]
  },
  {
   "cell_type": "code",
   "execution_count": 66,
   "id": "03f4f01f-154a-4d4a-8d45-c1a135900a1d",
   "metadata": {},
   "outputs": [
    {
     "data": {
      "text/plain": [
       "False"
      ]
     },
     "execution_count": 66,
     "metadata": {},
     "output_type": "execute_result"
    }
   ],
   "source": [
    "True and False\n",
    "True and False\n",
    "False or True\n",
    "False or False"
   ]
  },
  {
   "cell_type": "code",
   "execution_count": 76,
   "id": "8b413637-6bff-42d1-9b37-ce2253d150fc",
   "metadata": {},
   "outputs": [
    {
     "ename": "NameError",
     "evalue": "name 'x' is not defined",
     "output_type": "error",
     "traceback": [
      "\u001b[1;31m---------------------------------------------------------------------------\u001b[0m",
      "\u001b[1;31mNameError\u001b[0m                                 Traceback (most recent call last)",
      "Cell \u001b[1;32mIn[76], line 1\u001b[0m\n\u001b[1;32m----> 1\u001b[0m z\u001b[38;5;241m=\u001b[39mx\u001b[38;5;241m>\u001b[39my\n\u001b[0;32m      2\u001b[0m z\n",
      "\u001b[1;31mNameError\u001b[0m: name 'x' is not defined"
     ]
    }
   ],
   "source": [
    "z=x>y\n",
    "z"
   ]
  },
  {
   "cell_type": "code",
   "execution_count": 78,
   "id": "5bae12f7-d802-4db4-b928-e2463cc61319",
   "metadata": {},
   "outputs": [
    {
     "data": {
      "text/plain": [
       "[34, 34, 56, 7, 88]"
      ]
     },
     "execution_count": 78,
     "metadata": {},
     "output_type": "execute_result"
    }
   ],
   "source": [
    "a=[34,34,56,7,88]\n",
    "a"
   ]
  },
  {
   "cell_type": "code",
   "execution_count": 80,
   "id": "b852da8a-7171-4a34-bf82-4ae28c0f78ae",
   "metadata": {},
   "outputs": [
    {
     "data": {
      "text/plain": [
       "'hyderabad'"
      ]
     },
     "execution_count": 80,
     "metadata": {},
     "output_type": "execute_result"
    }
   ],
   "source": [
    "m=[2928,\"hyderabad\",True,445,34,330,2]\n",
    "m[1]"
   ]
  },
  {
   "cell_type": "code",
   "execution_count": 82,
   "id": "9a056ef5-fe9d-47d6-8e4b-5703b622c6bd",
   "metadata": {},
   "outputs": [
    {
     "data": {
      "text/plain": [
       "['hyderabad', True, 445]"
      ]
     },
     "execution_count": 82,
     "metadata": {},
     "output_type": "execute_result"
    }
   ],
   "source": [
    "m[1:4]"
   ]
  },
  {
   "cell_type": "code",
   "execution_count": 84,
   "id": "f5cc74e5-654b-4868-b3e0-babcbeda2d52",
   "metadata": {},
   "outputs": [
    {
     "data": {
      "text/plain": [
       "['hyderabad', 34]"
      ]
     },
     "execution_count": 84,
     "metadata": {},
     "output_type": "execute_result"
    }
   ],
   "source": [
    "m[1:6:3]"
   ]
  },
  {
   "cell_type": "code",
   "execution_count": 88,
   "id": "6975d996-abf7-43ee-b844-cdf11505e66d",
   "metadata": {},
   "outputs": [
    {
     "data": {
      "text/plain": [
       "[40]"
      ]
     },
     "execution_count": 88,
     "metadata": {},
     "output_type": "execute_result"
    }
   ],
   "source": [
    "mz = [10, 20, 30, 40, 50]\n",
    "mz[-2:2:-1]"
   ]
  },
  {
   "cell_type": "code",
   "execution_count": 90,
   "id": "acb4738e-66cf-4427-99e1-ccad35f3c285",
   "metadata": {},
   "outputs": [
    {
     "data": {
      "text/plain": [
       "[10, 20, 30, 40, 50, [34, 334]]"
      ]
     },
     "execution_count": 90,
     "metadata": {},
     "output_type": "execute_result"
    }
   ],
   "source": [
    "mz.append([34,334])\n",
    "mz"
   ]
  },
  {
   "cell_type": "code",
   "execution_count": 92,
   "id": "bd7f9435-6585-4129-98df-2533ccdbf2d3",
   "metadata": {},
   "outputs": [
    {
     "data": {
      "text/plain": [
       "[10, 20, 30, 40, 50, [34, 334], 34, 334]"
      ]
     },
     "execution_count": 92,
     "metadata": {},
     "output_type": "execute_result"
    }
   ],
   "source": [
    "mz.extend([34,334])\n",
    "mz"
   ]
  },
  {
   "cell_type": "code",
   "execution_count": 96,
   "id": "e95696ef-ce30-42d4-bf44-a017f8cb22e2",
   "metadata": {},
   "outputs": [
    {
     "data": {
      "text/plain": [
       "2"
      ]
     },
     "execution_count": 96,
     "metadata": {},
     "output_type": "execute_result"
    }
   ],
   "source": [
    "m.pop()"
   ]
  },
  {
   "cell_type": "code",
   "execution_count": 98,
   "id": "b48f5dfb-f9ba-46cf-bd1f-0f3d8bacccc3",
   "metadata": {},
   "outputs": [
    {
     "data": {
      "text/plain": [
       "334"
      ]
     },
     "execution_count": 98,
     "metadata": {},
     "output_type": "execute_result"
    }
   ],
   "source": [
    "mz.pop()"
   ]
  },
  {
   "cell_type": "code",
   "execution_count": 100,
   "id": "cb46d568-75db-4e66-85d7-dde85a9efe21",
   "metadata": {},
   "outputs": [
    {
     "data": {
      "text/plain": [
       "[10, 999, 20, 30, 40, 50, [34, 334], 34]"
      ]
     },
     "execution_count": 100,
     "metadata": {},
     "output_type": "execute_result"
    }
   ],
   "source": [
    "mz.insert(1,999)\n",
    "mz"
   ]
  },
  {
   "cell_type": "code",
   "execution_count": 104,
   "id": "1bf18b85-ac44-46be-bd98-6caeaa54e66b",
   "metadata": {},
   "outputs": [
    {
     "data": {
      "text/plain": [
       "[10, 20, 30, 40, 50, [34, 334], 34]"
      ]
     },
     "execution_count": 104,
     "metadata": {},
     "output_type": "execute_result"
    }
   ],
   "source": [
    "mz.remove(999)\n",
    "mz"
   ]
  },
  {
   "cell_type": "code",
   "execution_count": 106,
   "id": "4c2e0f02-a723-43bd-a9d3-71d97f36661a",
   "metadata": {},
   "outputs": [
    {
     "data": {
      "text/plain": [
       "(82, 45, 63, 86, 46, 67, 45, 34, 79)"
      ]
     },
     "execution_count": 106,
     "metadata": {},
     "output_type": "execute_result"
    }
   ],
   "source": [
    "h=(82,45,63,86,46,67,45,34,79)\n",
    "h"
   ]
  },
  {
   "cell_type": "code",
   "execution_count": 108,
   "id": "fdec50d4-c5d1-44ce-989c-f29331cc42f1",
   "metadata": {},
   "outputs": [
    {
     "data": {
      "text/plain": [
       "2"
      ]
     },
     "execution_count": 108,
     "metadata": {},
     "output_type": "execute_result"
    }
   ],
   "source": [
    "h.count(45)"
   ]
  },
  {
   "cell_type": "code",
   "execution_count": 110,
   "id": "8535efea-7696-4212-971e-41d04b6c6c97",
   "metadata": {},
   "outputs": [
    {
     "data": {
      "text/plain": [
       "1"
      ]
     },
     "execution_count": 110,
     "metadata": {},
     "output_type": "execute_result"
    }
   ],
   "source": [
    "h.index(45)"
   ]
  },
  {
   "cell_type": "code",
   "execution_count": 112,
   "id": "073dfc89-0b22-489d-801d-037781744615",
   "metadata": {},
   "outputs": [
    {
     "data": {
      "text/plain": [
       "(82, 45, 63)"
      ]
     },
     "execution_count": 112,
     "metadata": {},
     "output_type": "execute_result"
    }
   ],
   "source": [
    "h[0:3]"
   ]
  },
  {
   "cell_type": "code",
   "execution_count": 118,
   "id": "7c67db58-29c2-4707-b5d6-3a7d8409ac6e",
   "metadata": {},
   "outputs": [
    {
     "data": {
      "text/plain": [
       "{17, 18, 23, 45, 67, 333}"
      ]
     },
     "execution_count": 118,
     "metadata": {},
     "output_type": "execute_result"
    }
   ],
   "source": [
    "#set\n",
    "s={23,45,67,23,45,18,17,333}\n",
    "s"
   ]
  },
  {
   "cell_type": "code",
   "execution_count": 120,
   "id": "f55437a6-3e5e-4f0f-89d5-4cd93aa9eaae",
   "metadata": {},
   "outputs": [
    {
     "data": {
      "text/plain": [
       "set"
      ]
     },
     "execution_count": 120,
     "metadata": {},
     "output_type": "execute_result"
    }
   ],
   "source": [
    "type(s)"
   ]
  },
  {
   "cell_type": "code",
   "execution_count": 122,
   "id": "c9130908-0c1e-4921-8096-d1f743f0c3fb",
   "metadata": {},
   "outputs": [
    {
     "data": {
      "text/plain": [
       "{17, 18, 23, 45, 333}"
      ]
     },
     "execution_count": 122,
     "metadata": {},
     "output_type": "execute_result"
    }
   ],
   "source": [
    "s.remove(67)\n",
    "s"
   ]
  },
  {
   "cell_type": "code",
   "execution_count": 126,
   "id": "6d3d1f66-c0ca-459d-b326-3277f577670a",
   "metadata": {},
   "outputs": [
    {
     "data": {
      "text/plain": [
       "{17, 18, 23, 45, 333}"
      ]
     },
     "execution_count": 126,
     "metadata": {},
     "output_type": "execute_result"
    }
   ],
   "source": [
    "s.intersection(s)b\n",
    "s"
   ]
  },
  {
   "cell_type": "code",
   "execution_count": 134,
   "id": "4e43d4aa-4192-4197-ba79-579565f977a9",
   "metadata": {},
   "outputs": [
    {
     "data": {
      "text/plain": [
       "{17, 18, 23, 45, 333}"
      ]
     },
     "execution_count": 134,
     "metadata": {},
     "output_type": "execute_result"
    }
   ],
   "source": [
    "s.union(s)\n",
    "s"
   ]
  },
  {
   "cell_type": "code",
   "execution_count": 138,
   "id": "fd864259-9ce8-46ac-93f2-ccbd393cf989",
   "metadata": {},
   "outputs": [
    {
     "data": {
      "text/plain": [
       "{17, 18, 23, 45, 333}"
      ]
     },
     "execution_count": 138,
     "metadata": {},
     "output_type": "execute_result"
    }
   ],
   "source": [
    "s.difference(y)\n",
    "s"
   ]
  },
  {
   "cell_type": "code",
   "execution_count": 149,
   "id": "3680bb4e-08b8-468b-afb9-22c3ffedb1d5",
   "metadata": {},
   "outputs": [
    {
     "data": {
      "text/plain": [
       "{10, 17, 18, 20, 23, 30, 40, 45, 333}"
      ]
     },
     "execution_count": 149,
     "metadata": {},
     "output_type": "execute_result"
    }
   ],
   "source": [
    "s.symmetric_difference(y)"
   ]
  },
  {
   "cell_type": "code",
   "execution_count": null,
   "id": "e40ea85a-1d44-42c0-8578-5108c9c269c6",
   "metadata": {},
   "outputs": [],
   "source": [
    "we can convert list or set or tuple to any of list or set or tuple by using keywords like \n",
    "\n",
    "tuple()\n",
    "\n",
    "list()\n",
    "\n",
    "set()\n",
    "\n"
   ]
  },
  {
   "cell_type": "code",
   "execution_count": null,
   "id": "6588e83b-18b4-4ca1-91e8-6fb44132a4e7",
   "metadata": {},
   "outputs": [],
   "source": []
  },
  {
   "cell_type": "code",
   "execution_count": null,
   "id": "2fafc85f-4865-4c2a-8e23-379f6b359fb8",
   "metadata": {},
   "outputs": [],
   "source": []
  }
 ],
 "metadata": {
  "kernelspec": {
   "display_name": "Python [conda env:anaconda3]",
   "language": "python",
   "name": "conda-env-anaconda3-py"
  },
  "language_info": {
   "codemirror_mode": {
    "name": "ipython",
    "version": 3
   },
   "file_extension": ".py",
   "mimetype": "text/x-python",
   "name": "python",
   "nbconvert_exporter": "python",
   "pygments_lexer": "ipython3",
   "version": "3.12.7"
  }
 },
 "nbformat": 4,
 "nbformat_minor": 5
}
